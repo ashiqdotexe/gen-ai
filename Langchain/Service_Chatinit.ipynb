{
  "cells": [
    {
      "cell_type": "code",
      "execution_count": 2,
      "metadata": {
        "id": "JWYpG8W69ZE4"
      },
      "outputs": [],
      "source": [
        "import os\n",
        "from dotenv import load_dotenv\n",
        "load_dotenv()\n",
        "sec = os.getenv(\"GOOGLE_API_KEY\")\n",
        "os.environ[\"GOOGLE_API_KEY\"]=sec"
      ]
    },
    {
      "cell_type": "code",
      "execution_count": 3,
      "metadata": {
        "id": "KjCH-PU_9iMs"
      },
      "outputs": [
        {
          "name": "stderr",
          "output_type": "stream",
          "text": [
            "f:\\Programming 2\\GENAI(GitHub)\\venv\\lib\\site-packages\\tqdm\\auto.py:21: TqdmWarning: IProgress not found. Please update jupyter and ipywidgets. See https://ipywidgets.readthedocs.io/en/stable/user_install.html\n",
            "  from .autonotebook import tqdm as notebook_tqdm\n"
          ]
        }
      ],
      "source": [
        "from langchain_google_genai import ChatGoogleGenerativeAI\n",
        "llm = ChatGoogleGenerativeAI(\n",
        "    model=\"gemini-1.5-pro\",\n",
        "    temperature=0,\n",
        "    max_tokens=None,\n",
        "    timeout=None,\n",
        "    max_retries=2,\n",
        "    # other params...\n",
        ")"
      ]
    },
    {
      "cell_type": "code",
      "execution_count": 4,
      "metadata": {},
      "outputs": [],
      "source": [
        "from langchain_huggingface import HuggingFaceEmbeddings\n",
        "from pinecone import Pinecone, ServerlessSpec\n",
        "from langchain_pinecone.vectorstores import PineconeVectorStore\n",
        "import os\n",
        "from dotenv import load_dotenv\n",
        "load_dotenv()\n",
        "api_key = os.environ.get(\"PINECONE_API_KEY\")\n",
        "environment = os.environ.get(\"PINECONE_ENVIRONMENT\")\n",
        "pc = Pinecone(api_key=api_key)\n",
        "\n",
        "# Ensure the index exists\n",
        "index_name = \"chatinit\"  # Replace with your actual index name\n",
        "if index_name not in pc.list_indexes().names():\n",
        "    pc.create_index(\n",
        "        name=index_name,\n",
        "        dimension=768,\n",
        "        metric=\"cosine\",\n",
        "        spec=ServerlessSpec(\n",
        "            cloud=\"aws\",\n",
        "            region=\"us-east-1\"\n",
        "        )\n",
        "    )\n",
        "\n",
        "embedding_model = HuggingFaceEmbeddings(\n",
        "    model_name=\"sentence-transformers/all-mpnet-base-v2\"\n",
        ")\n",
        "index = pc.Index(index_name)\n",
        "vectore_Store = PineconeVectorStore(index=index, embedding=embedding_model)"
      ]
    },
    {
      "cell_type": "code",
      "execution_count": 41,
      "metadata": {},
      "outputs": [],
      "source": [
        "retriever = vectore_Store.as_retriever(search_type=\"similarity\", search_kwargs={\n",
        "        \"namespace\": \"solvrz\", \"k\": 3\n",
        "    })"
      ]
    },
    {
      "cell_type": "code",
      "execution_count": 12,
      "metadata": {},
      "outputs": [],
      "source": [
        "from langchain.prompts import PromptTemplate\n",
        "from langchain.chains.combine_documents import create_stuff_documents_chain\n",
        "from langchain.chains import create_retrieval_chain"
      ]
    },
    {
      "cell_type": "code",
      "execution_count": 31,
      "metadata": {
        "id": "EZBVyZ7o9loN"
      },
      "outputs": [],
      "source": [
        "custom_prompt = PromptTemplate(\n",
        "    template=\"\"\"\n",
        "You are a bot with the following enabled services: {enabled_services}.\n",
        "Your task is to analyze the user's query and determine whether it falls under the category of \"sales,\" \"support,\" or is a \"general\" query.\n",
        "Based on the category, respond accordingly, considering the context of the ongoing conversation.\n",
        "\n",
        "**Context:**\n",
        "{context}\n",
        "\n",
        "**Chat History:**\n",
        "{chat_history}\n",
        "\n",
        "**User Query:**\n",
        "{input}\n",
        "\n",
        "**Instructions:**\n",
        "1. **Categorization:**\n",
        "   - Analyze the query and classify it as \"sales,\" \"support,\" or \"general.\"\n",
        "2. **Response Based on Category:**\n",
        "   - If the query relates to sales, provide a sales-specific answer.\n",
        "   - If it relates to support, offer guidance or troubleshooting steps.\n",
        "   - For general queries, give helpful insights.\n",
        "3. **Tone and Style:**\n",
        "   - Use a professional and friendly tone.\n",
        "   - Keep responses concise and contextually relevant.\n",
        "\"\"\",\n",
        "    input_variables=[\"enabled_services\", \"chat_history\", \"input\", \"context\"],\n",
        ")\n"
      ]
    },
    {
      "cell_type": "code",
      "execution_count": 42,
      "metadata": {},
      "outputs": [],
      "source": [
        "combine_docs_chain = create_stuff_documents_chain(llm, custom_prompt)\n",
        "\n",
        "# Step 3: Create the retrieval chain using your custom chain\n",
        "rag_chain = create_retrieval_chain(retriever, combine_docs_chain)"
      ]
    },
    {
      "cell_type": "code",
      "execution_count": 65,
      "metadata": {
        "id": "ZvuSTy3q9xgi"
      },
      "outputs": [],
      "source": [
        "enabled_services = \"sales, support, feedback, appointment booking, learn more\"\n",
        "query = \"How can I contact with solvrz?\"\n",
        "chat_history = []\n",
        "context = \"Relevant documents retrieved based on the user's query.\""
      ]
    },
    {
      "cell_type": "code",
      "execution_count": 66,
      "metadata": {
        "id": "apBG53bM94jV"
      },
      "outputs": [],
      "source": [
        "response = rag_chain.invoke({\n",
        "    \"enabled_services\": enabled_services,\n",
        "    \"chat_history\": chat_history,\n",
        "    \"input\": query,\n",
        "    \"context\": context\n",
        "})\n"
      ]
    },
    {
      "cell_type": "code",
      "execution_count": 67,
      "metadata": {},
      "outputs": [
        {
          "name": "stdout",
          "output_type": "stream",
          "text": [
            "**1. Categorization:** General\n",
            "\n",
            "**2. Response:**\n",
            "\n",
            "We'd love to connect with you!  You can reach Solvrz in a few ways:\n",
            "\n",
            "* **For sales inquiries:** Please email us at [sales@solvrz.com - replace with actual email]\n",
            "* **For support related to our products (e.g., Chatinit, dCopyright):**  Please email us at [support@solvrz.com - replace with actual email]\n",
            "* **For general inquiries or partnership opportunities:** Please email us at [info@solvrz.com - replace with actual email]\n",
            "\n",
            "We look forward to hearing from you and exploring how we can help you unlock possibilities through innovative software solutions.\n",
            "\n"
          ]
        }
      ],
      "source": [
        "answer = response.get(\"answer\", \"No answer found\")\n",
        "print(answer)"
      ]
    },
    {
      "cell_type": "code",
      "execution_count": null,
      "metadata": {},
      "outputs": [],
      "source": []
    }
  ],
  "metadata": {
    "colab": {
      "provenance": []
    },
    "kernelspec": {
      "display_name": "venv",
      "language": "python",
      "name": "python3"
    },
    "language_info": {
      "codemirror_mode": {
        "name": "ipython",
        "version": 3
      },
      "file_extension": ".py",
      "mimetype": "text/x-python",
      "name": "python",
      "nbconvert_exporter": "python",
      "pygments_lexer": "ipython3",
      "version": "3.10.6"
    }
  },
  "nbformat": 4,
  "nbformat_minor": 0
}
