{
  "cells": [
    {
      "cell_type": "code",
      "execution_count": 1,
      "metadata": {
        "id": "JWYpG8W69ZE4"
      },
      "outputs": [],
      "source": [
        "import os\n",
        "from dotenv import load_dotenv\n",
        "load_dotenv()\n",
        "sec = os.getenv(\"GOOGLE_API_KEY\")\n",
        "os.environ[\"GOOGLE_API_KEY\"]=sec"
      ]
    },
    {
      "cell_type": "code",
      "execution_count": 2,
      "metadata": {
        "id": "KjCH-PU_9iMs"
      },
      "outputs": [
        {
          "name": "stderr",
          "output_type": "stream",
          "text": [
            "f:\\Programming 2\\GENAI(GitHub)\\venv\\lib\\site-packages\\tqdm\\auto.py:21: TqdmWarning: IProgress not found. Please update jupyter and ipywidgets. See https://ipywidgets.readthedocs.io/en/stable/user_install.html\n",
            "  from .autonotebook import tqdm as notebook_tqdm\n"
          ]
        }
      ],
      "source": [
        "from langchain_google_genai import ChatGoogleGenerativeAI\n",
        "llm = ChatGoogleGenerativeAI(\n",
        "    model=\"gemini-1.5-pro\",\n",
        "    temperature=0,\n",
        "    max_tokens=None,\n",
        "    timeout=None,\n",
        "    max_retries=2,\n",
        "    # other params...\n",
        ")"
      ]
    },
    {
      "cell_type": "code",
      "execution_count": 3,
      "metadata": {},
      "outputs": [],
      "source": [
        "from langchain_huggingface import HuggingFaceEmbeddings\n",
        "from pinecone import Pinecone, ServerlessSpec\n",
        "from langchain_pinecone.vectorstores import PineconeVectorStore\n",
        "import os\n",
        "from dotenv import load_dotenv\n",
        "load_dotenv()\n",
        "api_key = os.environ.get(\"PINECONE_API_KEY\")\n",
        "environment = os.environ.get(\"PINECONE_ENVIRONMENT\")\n",
        "pc = Pinecone(api_key=api_key)\n",
        "\n",
        "# Ensure the index exists\n",
        "index_name = \"chatinit\"  # Replace with your actual index name\n",
        "if index_name not in pc.list_indexes().names():\n",
        "    pc.create_index(\n",
        "        name=index_name,\n",
        "        dimension=768,\n",
        "        metric=\"cosine\",\n",
        "        spec=ServerlessSpec(\n",
        "            cloud=\"aws\",\n",
        "            region=\"us-east-1\"\n",
        "        )\n",
        "    )\n",
        "\n",
        "embedding_model = HuggingFaceEmbeddings(\n",
        "    model_name=\"sentence-transformers/all-mpnet-base-v2\"\n",
        ")\n",
        "index = pc.Index(index_name)\n",
        "vectore_Store = PineconeVectorStore(index=index, embedding=embedding_model)"
      ]
    },
    {
      "cell_type": "code",
      "execution_count": 4,
      "metadata": {},
      "outputs": [],
      "source": [
        "retriever = vectore_Store.as_retriever(search_type=\"similarity\", search_kwargs={\n",
        "        \"namespace\": \"solvrz\", \"k\": 3\n",
        "    })"
      ]
    },
    {
      "cell_type": "code",
      "execution_count": 5,
      "metadata": {},
      "outputs": [],
      "source": [
        "from langchain.prompts import PromptTemplate\n",
        "from langchain.chains.combine_documents import create_stuff_documents_chain\n",
        "from langchain.chains import create_retrieval_chain"
      ]
    },
    {
      "cell_type": "code",
      "execution_count": 11,
      "metadata": {
        "id": "EZBVyZ7o9loN"
      },
      "outputs": [],
      "source": [
        "custom_prompt = PromptTemplate(\n",
        "    template = \"\"\"\n",
        " **Role and Identity:** \n",
        "You are {bot_name}, the voicebot of {business_name}, a cutting-edge AI agency specializing in developing intelligent and tailored AI solutions. Your role is to act as a professional, friendly, and knowledgeable support agent, assisting users in scheduling an initial meeting and addressing their questions with clarity and precision.\n",
        "\n",
        "**Context:**  \n",
        "{context}  \n",
        "**User Query:**  \n",
        "{input}  \n",
        "\n",
        "**Instructions:**  \n",
        "1. **Categorization:**  \n",
        "   - Identify the nature of the query (sales, support, or general).  \n",
        "\n",
        "2. **Response:**  \n",
        "   - For sales queries: Highlight relevant details and benefits.  \n",
        "   - For support queries: Offer clear solutions or troubleshooting steps.  \n",
        "   - For general queries: Share precise and actionable insights.  \n",
        "\n",
        "3. **Tone and Style:**  \n",
        "   - Maintain a professional, approachable, and concise tone.  \n",
        "   - Focus on delivering relevant, helpful, and actionable answers.  \n",
        "   - Avoid unnecessary details or filler phrases.  \n",
        "\n",
        "Your response should directly address the query while reflecting your expertise and professionalism.\n",
        "\"\"\",\n",
        "    input_variables=[\"input\", \"context\", \"industry_name\", \"industry_type\"],\n",
        ")\n"
      ]
    },
    {
      "cell_type": "code",
      "execution_count": 12,
      "metadata": {},
      "outputs": [],
      "source": [
        "combine_docs_chain = create_stuff_documents_chain(llm, custom_prompt)\n",
        "\n",
        "# Step 3: Create the retrieval chain using your custom chain\n",
        "rag_chain = create_retrieval_chain(retriever, combine_docs_chain)"
      ]
    },
    {
      "cell_type": "code",
      "execution_count": 16,
      "metadata": {
        "id": "ZvuSTy3q9xgi"
      },
      "outputs": [],
      "source": [
        "enabled_services = \"sales, support, feedback, appointment booking, learn more\"\n",
        "query = \"Name some products of Solvrz\"\n",
        "chat_history = []\n",
        "industry_type = \"Software Devolopement Farm\"\n",
        "industry_name = \"Solvrz\"\n",
        "context = \"Relevant documents retrieved based on the user's query.\""
      ]
    },
    {
      "cell_type": "code",
      "execution_count": 17,
      "metadata": {
        "id": "apBG53bM94jV"
      },
      "outputs": [],
      "source": [
        "response = rag_chain.invoke({\n",
        "    \"input\": query,\n",
        "    \"context\": context,\n",
        "    \"industry_name\": industry_name,\n",
        "    \"industry_type\": industry_type\n",
        "})\n"
      ]
    },
    {
      "cell_type": "code",
      "execution_count": 18,
      "metadata": {},
      "outputs": [
        {
          "name": "stdout",
          "output_type": "stream",
          "text": [
            "Hi, this is Solvrz.  I understand you'd like to know more about the products we offer.  As we are primarily a software development *farm* focused on research and innovation, we don't have a catalog of ready-made products like a traditional software company.  \n",
            "\n",
            "Instead, Solvrz partners with businesses to build custom software solutions tailored to their specific needs.  We specialize in leveraging cutting-edge technology and innovative approaches to create impactful solutions.  Think of us as an extension of your team, dedicated to researching, developing, and implementing the technology that will drive your business forward.\n",
            "\n",
            "For example, some of our projects include [mention a specific project or type of project if available, otherwise omit this sentence].  We have a team of 10+ members and 1+ years of experience in delivering successful projects.\n",
            "\n",
            "If you have a specific project in mind or a business challenge you'd like to discuss, Solvrz would be happy to explore how we can help.\n",
            "\n"
          ]
        }
      ],
      "source": [
        "answer = response.get(\"answer\", \"No answer found\")\n",
        "print(answer)"
      ]
    },
    {
      "cell_type": "code",
      "execution_count": null,
      "metadata": {},
      "outputs": [],
      "source": []
    }
  ],
  "metadata": {
    "colab": {
      "provenance": []
    },
    "kernelspec": {
      "display_name": "venv",
      "language": "python",
      "name": "python3"
    },
    "language_info": {
      "codemirror_mode": {
        "name": "ipython",
        "version": 3
      },
      "file_extension": ".py",
      "mimetype": "text/x-python",
      "name": "python",
      "nbconvert_exporter": "python",
      "pygments_lexer": "ipython3",
      "version": "3.10.6"
    }
  },
  "nbformat": 4,
  "nbformat_minor": 0
}
