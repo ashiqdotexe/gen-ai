{
  "nbformat": 4,
  "nbformat_minor": 0,
  "metadata": {
    "colab": {
      "provenance": []
    },
    "kernelspec": {
      "name": "python3",
      "display_name": "Python 3"
    },
    "language_info": {
      "name": "python"
    }
  },
  "cells": [
    {
      "cell_type": "code",
      "execution_count": 1,
      "metadata": {
        "colab": {
          "base_uri": "https://localhost:8080/"
        },
        "id": "WRIdf0_o86_P",
        "outputId": "be7a9477-bedb-4a21-ed27-c2bb0b5c4e82"
      },
      "outputs": [
        {
          "output_type": "stream",
          "name": "stdout",
          "text": [
            "Requirement already satisfied: langchain in /usr/local/lib/python3.10/dist-packages (0.3.7)\n",
            "Requirement already satisfied: PyYAML>=5.3 in /usr/local/lib/python3.10/dist-packages (from langchain) (6.0.2)\n",
            "Requirement already satisfied: SQLAlchemy<3,>=1.4 in /usr/local/lib/python3.10/dist-packages (from langchain) (2.0.36)\n",
            "Requirement already satisfied: aiohttp<4.0.0,>=3.8.3 in /usr/local/lib/python3.10/dist-packages (from langchain) (3.11.2)\n",
            "Requirement already satisfied: async-timeout<5.0.0,>=4.0.0 in /usr/local/lib/python3.10/dist-packages (from langchain) (4.0.3)\n",
            "Requirement already satisfied: langchain-core<0.4.0,>=0.3.15 in /usr/local/lib/python3.10/dist-packages (from langchain) (0.3.19)\n",
            "Requirement already satisfied: langchain-text-splitters<0.4.0,>=0.3.0 in /usr/local/lib/python3.10/dist-packages (from langchain) (0.3.2)\n",
            "Requirement already satisfied: langsmith<0.2.0,>=0.1.17 in /usr/local/lib/python3.10/dist-packages (from langchain) (0.1.143)\n",
            "Requirement already satisfied: numpy<2,>=1 in /usr/local/lib/python3.10/dist-packages (from langchain) (1.26.4)\n",
            "Requirement already satisfied: pydantic<3.0.0,>=2.7.4 in /usr/local/lib/python3.10/dist-packages (from langchain) (2.9.2)\n",
            "Requirement already satisfied: requests<3,>=2 in /usr/local/lib/python3.10/dist-packages (from langchain) (2.32.3)\n",
            "Requirement already satisfied: tenacity!=8.4.0,<10,>=8.1.0 in /usr/local/lib/python3.10/dist-packages (from langchain) (9.0.0)\n",
            "Requirement already satisfied: aiohappyeyeballs>=2.3.0 in /usr/local/lib/python3.10/dist-packages (from aiohttp<4.0.0,>=3.8.3->langchain) (2.4.3)\n",
            "Requirement already satisfied: aiosignal>=1.1.2 in /usr/local/lib/python3.10/dist-packages (from aiohttp<4.0.0,>=3.8.3->langchain) (1.3.1)\n",
            "Requirement already satisfied: attrs>=17.3.0 in /usr/local/lib/python3.10/dist-packages (from aiohttp<4.0.0,>=3.8.3->langchain) (24.2.0)\n",
            "Requirement already satisfied: frozenlist>=1.1.1 in /usr/local/lib/python3.10/dist-packages (from aiohttp<4.0.0,>=3.8.3->langchain) (1.5.0)\n",
            "Requirement already satisfied: multidict<7.0,>=4.5 in /usr/local/lib/python3.10/dist-packages (from aiohttp<4.0.0,>=3.8.3->langchain) (6.1.0)\n",
            "Requirement already satisfied: propcache>=0.2.0 in /usr/local/lib/python3.10/dist-packages (from aiohttp<4.0.0,>=3.8.3->langchain) (0.2.0)\n",
            "Requirement already satisfied: yarl<2.0,>=1.17.0 in /usr/local/lib/python3.10/dist-packages (from aiohttp<4.0.0,>=3.8.3->langchain) (1.17.2)\n",
            "Requirement already satisfied: jsonpatch<2.0,>=1.33 in /usr/local/lib/python3.10/dist-packages (from langchain-core<0.4.0,>=0.3.15->langchain) (1.33)\n",
            "Requirement already satisfied: packaging<25,>=23.2 in /usr/local/lib/python3.10/dist-packages (from langchain-core<0.4.0,>=0.3.15->langchain) (24.2)\n",
            "Requirement already satisfied: typing-extensions>=4.7 in /usr/local/lib/python3.10/dist-packages (from langchain-core<0.4.0,>=0.3.15->langchain) (4.12.2)\n",
            "Requirement already satisfied: httpx<1,>=0.23.0 in /usr/local/lib/python3.10/dist-packages (from langsmith<0.2.0,>=0.1.17->langchain) (0.27.2)\n",
            "Requirement already satisfied: orjson<4.0.0,>=3.9.14 in /usr/local/lib/python3.10/dist-packages (from langsmith<0.2.0,>=0.1.17->langchain) (3.10.11)\n",
            "Requirement already satisfied: requests-toolbelt<2.0.0,>=1.0.0 in /usr/local/lib/python3.10/dist-packages (from langsmith<0.2.0,>=0.1.17->langchain) (1.0.0)\n",
            "Requirement already satisfied: annotated-types>=0.6.0 in /usr/local/lib/python3.10/dist-packages (from pydantic<3.0.0,>=2.7.4->langchain) (0.7.0)\n",
            "Requirement already satisfied: pydantic-core==2.23.4 in /usr/local/lib/python3.10/dist-packages (from pydantic<3.0.0,>=2.7.4->langchain) (2.23.4)\n",
            "Requirement already satisfied: charset-normalizer<4,>=2 in /usr/local/lib/python3.10/dist-packages (from requests<3,>=2->langchain) (3.4.0)\n",
            "Requirement already satisfied: idna<4,>=2.5 in /usr/local/lib/python3.10/dist-packages (from requests<3,>=2->langchain) (3.10)\n",
            "Requirement already satisfied: urllib3<3,>=1.21.1 in /usr/local/lib/python3.10/dist-packages (from requests<3,>=2->langchain) (2.2.3)\n",
            "Requirement already satisfied: certifi>=2017.4.17 in /usr/local/lib/python3.10/dist-packages (from requests<3,>=2->langchain) (2024.8.30)\n",
            "Requirement already satisfied: greenlet!=0.4.17 in /usr/local/lib/python3.10/dist-packages (from SQLAlchemy<3,>=1.4->langchain) (3.1.1)\n",
            "Requirement already satisfied: anyio in /usr/local/lib/python3.10/dist-packages (from httpx<1,>=0.23.0->langsmith<0.2.0,>=0.1.17->langchain) (3.7.1)\n",
            "Requirement already satisfied: httpcore==1.* in /usr/local/lib/python3.10/dist-packages (from httpx<1,>=0.23.0->langsmith<0.2.0,>=0.1.17->langchain) (1.0.7)\n",
            "Requirement already satisfied: sniffio in /usr/local/lib/python3.10/dist-packages (from httpx<1,>=0.23.0->langsmith<0.2.0,>=0.1.17->langchain) (1.3.1)\n",
            "Requirement already satisfied: h11<0.15,>=0.13 in /usr/local/lib/python3.10/dist-packages (from httpcore==1.*->httpx<1,>=0.23.0->langsmith<0.2.0,>=0.1.17->langchain) (0.14.0)\n",
            "Requirement already satisfied: jsonpointer>=1.9 in /usr/local/lib/python3.10/dist-packages (from jsonpatch<2.0,>=1.33->langchain-core<0.4.0,>=0.3.15->langchain) (3.0.0)\n",
            "Requirement already satisfied: exceptiongroup in /usr/local/lib/python3.10/dist-packages (from anyio->httpx<1,>=0.23.0->langsmith<0.2.0,>=0.1.17->langchain) (1.2.2)\n"
          ]
        }
      ],
      "source": [
        "!pip install langchain"
      ]
    },
    {
      "cell_type": "code",
      "source": [
        "!pip install -qU langchain-google-genai"
      ],
      "metadata": {
        "colab": {
          "base_uri": "https://localhost:8080/"
        },
        "id": "PLoQEw-L9Ktq",
        "outputId": "2269eada-12bc-415e-f761-31bb04959030"
      },
      "execution_count": 2,
      "outputs": [
        {
          "output_type": "stream",
          "name": "stdout",
          "text": [
            "\u001b[?25l   \u001b[90m━━━━━━━━━━━━━━━━━━━━━━━━━━━━━━━━━━━━━━━━\u001b[0m \u001b[32m0.0/41.3 kB\u001b[0m \u001b[31m?\u001b[0m eta \u001b[36m-:--:--\u001b[0m\r\u001b[2K   \u001b[90m━━━━━━━━━━━━━━━━━━━━━━━━━━━━━━━━━━━━━━━━\u001b[0m \u001b[32m41.3/41.3 kB\u001b[0m \u001b[31m2.5 MB/s\u001b[0m eta \u001b[36m0:00:00\u001b[0m\n",
            "\u001b[?25h"
          ]
        }
      ]
    },
    {
      "cell_type": "code",
      "source": [
        "from langchain_google_genai import ChatGoogleGenerativeAI\n",
        "from google.colab import userdata"
      ],
      "metadata": {
        "id": "1qYmtvcJ9Ult"
      },
      "execution_count": 3,
      "outputs": []
    },
    {
      "cell_type": "code",
      "source": [
        "import os\n",
        "sec = userdata.get(\"GOOGLE_API_KEY\")\n",
        "os.environ[\"GOOGLE_API_KEY\"]=sec"
      ],
      "metadata": {
        "id": "JWYpG8W69ZE4"
      },
      "execution_count": 4,
      "outputs": []
    },
    {
      "cell_type": "code",
      "source": [
        "llm = ChatGoogleGenerativeAI(\n",
        "    model=\"gemini-1.5-pro\",\n",
        "    temperature=0,\n",
        "    max_tokens=None,\n",
        "    timeout=None,\n",
        "    max_retries=2,\n",
        "    # other params...\n",
        ")"
      ],
      "metadata": {
        "id": "KjCH-PU_9iMs"
      },
      "execution_count": 5,
      "outputs": []
    },
    {
      "cell_type": "code",
      "source": [
        "from langchain.prompts import PromptTemplate"
      ],
      "metadata": {
        "id": "EZBVyZ7o9loN"
      },
      "execution_count": 6,
      "outputs": []
    },
    {
      "cell_type": "code",
      "source": [
        "template = \"\"\"\n",
        "You are a bot with the following enabled services: {enabled_services}.\n",
        "Your task is to analyze the user's query and determine whether it falls under the category of \"sales,\" \"support,\" or is a \"general\" query.\n",
        "Based on the category, respond accordingly, considering the context of the ongoing conversation.\n",
        "\n",
        "**Chat History:**\n",
        "{chat_history}\n",
        "\n",
        "**User Query:**\n",
        "{query}\n",
        "\n",
        "**Instructions:**\n",
        "1. **Categorization:**\n",
        "   - Analyze the query and classify it as \"sales,\" \"support,\" or \"general.\"\n",
        "\n",
        "2. **Response Based on Category:**\n",
        "   - If the query relates to sales, provide a sales-specific answer with relevant suggestions or information.\n",
        "   - If the query relates to support, offer guidance or troubleshooting steps tailored to the user's issue.\n",
        "   - If the query is general or does not relate to the enabled services, provide a general response with helpful insights.\n",
        "\n",
        "3. **Clarifications:**\n",
        "   - If the question is unclear or lacks context, politely ask the user for more information to clarify their intent.\n",
        "   - For example:\n",
        "     - \"Could you provide more details about the issue you're facing?\"\n",
        "     - \"Can you clarify what you mean by [specific term or phrase]?\"\n",
        "     - \"Are you referring to [specific product/service]?\"\n",
        "\n",
        "4. **Follow-Up Questions:**\n",
        "   - If the bot cannot answer the query immediately due to insufficient details, ask specific follow-up questions to gather the necessary information.\n",
        "   - Ensure the questions are simple and focused on resolving the ambiguity.\n",
        "\n",
        "5. **Tone and Style:**\n",
        "   - Use a professional and friendly tone.\n",
        "   - Keep responses concise, clear, and contextually relevant.\n",
        "\n",
        "6. **Final Note:**\n",
        "   - If the bot cannot assist even after clarifications, acknowledge the limitation and guide the user to alternative solutions, such as contacting support or visiting a FAQ page.\n",
        "   - For example:\n",
        "     - \"I might need more details to help you better. Could you clarify this further?\"\n",
        "     - \"I'm not sure I can assist with that directly, but you can try reaching out to our support team for additional help.\"\n",
        "\n",
        "\"\"\"\n",
        "prompt = PromptTemplate(template=template, input_variables=[\"enabled_services\", \"query\"])"
      ],
      "metadata": {
        "id": "c0yaVgDR9r9o"
      },
      "execution_count": 32,
      "outputs": []
    },
    {
      "cell_type": "code",
      "source": [
        "services_enabled = [\"sales\", \"support\"]  # Dynamically provided by the user\n",
        "\"\"\"\n",
        "Can you help me with a product recommendation of Samsung?\n",
        "How do I reset my account password?\n",
        "Who is the founder of Google?\n",
        "\"\"\"\n",
        "\n",
        "# Format services as a string\n",
        "services_str = \", \".join(services_enabled)"
      ],
      "metadata": {
        "id": "ZvuSTy3q9xgi"
      },
      "execution_count": 33,
      "outputs": []
    },
    {
      "cell_type": "code",
      "source": [
        "chain = prompt | llm"
      ],
      "metadata": {
        "id": "apBG53bM94jV"
      },
      "execution_count": 34,
      "outputs": []
    },
    {
      "cell_type": "code",
      "source": [
        "user_query = \"Who is the founder of Google?\"\n",
        "result = chain.invoke({\"enabled_services\": services_str, \"query\": user_query})\n",
        "chat_history = []"
      ],
      "metadata": {
        "id": "LHN5CV87-BJy"
      },
      "execution_count": 19,
      "outputs": []
    },
    {
      "cell_type": "code",
      "source": [
        "\n",
        "while True:\n",
        "    # Get user input\n",
        "    user_query = input(\"\\nYou: \")\n",
        "    if user_query.lower() == \"exit\":\n",
        "        print(\"Chatbot: Goodbye!\")\n",
        "        break\n",
        "\n",
        "    # Append the user's query to the chat history\n",
        "    chat_history.append(f\"User: {user_query}\")\n",
        "\n",
        "    # Format chat history as a string\n",
        "    chat_history_str = \"\\n\".join(chat_history)\n",
        "\n",
        "    # Generate response using the chain\n",
        "    try:\n",
        "        response = chain.invoke({\n",
        "            \"enabled_services\": services_str,\n",
        "            \"chat_history\": chat_history_str,\n",
        "            \"query\": user_query\n",
        "        })\n",
        "\n",
        "        # Append the bot's response to the chat history\n",
        "        chat_history.append(f\"Bot: {response}\")\n",
        "        result = response.content\n",
        "        # Print the bot's response\n",
        "        print(f\"Chatbot: {result}\")\n",
        "\n",
        "    except Exception as e:\n",
        "        print(f\"Chatbot: Sorry, I encountered an error: {str(e)}\")"
      ],
      "metadata": {
        "colab": {
          "base_uri": "https://localhost:8080/"
        },
        "id": "Tg7zSaNP-B15",
        "outputId": "b96df185-4272-4b60-f7b9-df3c1b1acc98"
      },
      "execution_count": 36,
      "outputs": [
        {
          "output_type": "stream",
          "name": "stdout",
          "text": [
            "\n",
            "You: Who is the chief advisor of Bangladesh?\n",
            "Chatbot: content='This is a general query. The position of \"Chief Advisor\" in Bangladesh usually refers to the head of a caretaker government, a temporary government installed to oversee elections.  The most recent caretaker government was in power from 2006-2008.  Currently, Bangladesh has a parliamentary system with a Prime Minister as the head of government.  For the most up-to-date information, I recommend checking a reliable news source or government website.\\n' additional_kwargs={} response_metadata={'prompt_feedback': {'block_reason': 0, 'safety_ratings': []}, 'finish_reason': 'STOP', 'safety_ratings': []} id='run-46666666-6666-6666-6666-666666666666-0' usage_metadata={'input_tokens': 3032, 'output_tokens': 96, 'total_tokens': 3128, 'input_token_details': {'cache_read': 0}}\n",
            "\n",
            "\n",
            "You: exit\n",
            "Chatbot: Goodbye!\n"
          ]
        }
      ]
    },
    {
      "cell_type": "code",
      "source": [],
      "metadata": {
        "id": "hR1eCOKhJ_kv"
      },
      "execution_count": null,
      "outputs": []
    }
  ]
}