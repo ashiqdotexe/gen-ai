{
 "cells": [
  {
   "cell_type": "code",
   "execution_count": 1,
   "metadata": {},
   "outputs": [],
   "source": [
    "import os\n",
    "from dotenv import load_dotenv"
   ]
  },
  {
   "cell_type": "code",
   "execution_count": 57,
   "metadata": {},
   "outputs": [],
   "source": [
    "load_dotenv()\n",
    "GROQ_API_KEY = os.getenv(\"GROQ_API\")\n",
    "os.environ[\"GROQ_API_KEY\"] = GROQ_API_KEY\n",
    "os.environ[\"GEMINI_API_KEY\"] = os.getenv(\"GOOGLE_API_KEY\")\n",
    "os.environ[\"OPENAI_API_KEY\"] = os.getenv(\"OPENAI_API_KEY\")"
   ]
  },
  {
   "cell_type": "code",
   "execution_count": 3,
   "metadata": {},
   "outputs": [],
   "source": [
    "import nest_asyncio\n",
    "nest_asyncio.apply()"
   ]
  },
  {
   "cell_type": "markdown",
   "metadata": {},
   "source": [
    "Agent with System prompt"
   ]
  },
  {
   "cell_type": "code",
   "execution_count": 5,
   "metadata": {},
   "outputs": [],
   "source": [
    "from dataclasses import dataclass\n",
    "from pydantic_ai import Agent, RunContext"
   ]
  },
  {
   "cell_type": "code",
   "execution_count": 28,
   "metadata": {},
   "outputs": [],
   "source": [
    "@dataclass\n",
    "class UserDetails:\n",
    "    name: str\n",
    "    age: int"
   ]
  },
  {
   "cell_type": "code",
   "execution_count": 14,
   "metadata": {},
   "outputs": [],
   "source": [
    "from langchain_groq import ChatGroq\n",
    "llm = ChatGroq(model=\"llama3-8b-8192\")\n"
   ]
  },
  {
   "cell_type": "code",
   "execution_count": 65,
   "metadata": {},
   "outputs": [],
   "source": [
    "agent = Agent(model=\"groq:llama-3.3-70b-versatile\", deps_type=UserDetails)\n",
    "@agent.system_prompt\n",
    "def user_systemprompt(ctx: RunContext[UserDetails]):\n",
    "    return f\"\"\"You are a helpful greeting provider. Always start with the name and then age.\n",
    "    right now you are talking with {ctx.deps.name} and his/ her age is {ctx.deps.age}\"\"\"\n",
    "\n",
    "@agent.tool\n",
    "def get_bank_balance(ctx: RunContext[UserDetails]):\n",
    "    \"\"\"\"use this tool to get user Bank Balance\"\"\"\n",
    "    if ctx.deps.name ==\"Adnan\":\n",
    "        return \"Adnan's current Bank Balance is $1000000\"\n",
    "    elif ctx.deps.name== \"Ashiq\":\n",
    "        return \"Ashiq's Bank Balance is $50000000\"\n",
    "    else:\n",
    "        return \"Please correct the username\"\n",
    "\n",
    "from datetime import datetime\n",
    "@agent.tool_plain\n",
    "def get_current_date():\n",
    "    return f\"Current time is {datetime.now()}\""
   ]
  },
  {
   "cell_type": "markdown",
   "metadata": {},
   "source": [
    "Dynamic User and name"
   ]
  },
  {
   "cell_type": "code",
   "execution_count": 67,
   "metadata": {},
   "outputs": [
    {
     "name": "stdout",
     "output_type": "stream",
     "text": [
      "Hello Adnan, you are 18 years old. The current time is 2024-12-23 14:14:36.243367\n",
      "Hello Adnan, you are 18 years old. Your current Bank Balance is $1000000.\n"
     ]
    }
   ],
   "source": [
    "deps = UserDetails(name=\"Adnan\",age=18)\n",
    "\n",
    "result = agent.run_sync(\"What is the current time\", deps=deps)\n",
    "result2 = agent.run_sync(\"What is the Bank Balance\", deps=deps)\n",
    "print(result.data)\n",
    "print(result2.data)"
   ]
  },
  {
   "cell_type": "markdown",
   "metadata": {},
   "source": [
    "Multiple Agent"
   ]
  },
  {
   "cell_type": "code",
   "execution_count": null,
   "metadata": {},
   "outputs": [],
   "source": []
  }
 ],
 "metadata": {
  "kernelspec": {
   "display_name": "venv",
   "language": "python",
   "name": "python3"
  },
  "language_info": {
   "codemirror_mode": {
    "name": "ipython",
    "version": 3
   },
   "file_extension": ".py",
   "mimetype": "text/x-python",
   "name": "python",
   "nbconvert_exporter": "python",
   "pygments_lexer": "ipython3",
   "version": "3.10.6"
  }
 },
 "nbformat": 4,
 "nbformat_minor": 2
}
